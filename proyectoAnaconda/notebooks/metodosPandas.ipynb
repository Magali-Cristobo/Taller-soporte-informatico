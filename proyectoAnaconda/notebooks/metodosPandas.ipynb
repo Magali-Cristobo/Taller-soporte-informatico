{
 "cells": [
  {
   "cell_type": "code",
   "execution_count": 61,
   "metadata": {
    "collapsed": true,
    "pycharm": {
     "name": "#%%\n"
    }
   },
   "outputs": [
    {
     "name": "stdout",
     "output_type": "stream",
     "text": [
      "           barrio    perimetro          area\n",
      "12  SAN CRISTOBAL  5987.226479  2.043711e+06\n",
      "24      BALVANERA  8375.821811  4.342280e+06\n",
      "               barrio     perimetro          area\n",
      "4             ALMAGRO   8537.901368  4.050752e+06\n",
      "5           CABALLITO  10990.964471  6.851029e+06\n",
      "9              FLORES  15772.439510  8.590784e+06\n",
      "13              BOEDO   6602.510266  2.609851e+06\n",
      "17          MATADEROS  11124.635792  7.398179e+06\n",
      "18       VILLA LUGANO  15057.468389  9.296142e+06\n",
      "30  PARQUE AVELLANEDA  10165.614028  4.732708e+06\n",
      "31   PARQUE CHACABUCO   8406.914321  3.832117e+06\n",
      "34    VILLA RIACHUELO  10596.826739  4.232596e+06\n",
      "35      VILLA SOLDATI  12441.695877  8.688164e+06\n",
      "38            LINIERS   9256.927321  4.374419e+06\n",
      "      PERIMETRO          AREA\n",
      "2  18332.037457  1.265656e+07\n",
      "4     12.0\n",
      "6     15.0\n",
      "7     13.0\n",
      "11     3.0\n",
      "13     8.0\n",
      "Name: COMUNAS, dtype: float64\n",
      "0     6.317265e+06\n",
      "1     6.851029e+06\n",
      "2     1.265656e+07\n",
      "3     1.412004e+07\n",
      "4     1.557093e+07\n",
      "5     1.584587e+07\n",
      "6     1.432290e+07\n",
      "7     1.471321e+07\n",
      "8     2.168464e+07\n",
      "9     6.660603e+06\n",
      "10    1.242290e+07\n",
      "11    6.385991e+06\n",
      "12    1.650531e+07\n",
      "13    2.221690e+07\n",
      "14    1.779457e+07\n",
      "Name: AREA, dtype: float64\n",
      "5    22126.531858\n",
      "Name: PERIMETRO, dtype: float64\n"
     ]
    }
   ],
   "source": [
    "import pandas as pd\n",
    "\n",
    "dfCasos = pd.read_csv(\"../data/casos.csv\",sep=\",\",engine=\"python\")\n",
    "dfComunas = pd.read_csv(\"../data/comunas.csv\",sep=\",\",engine=\"python\")\n",
    "dfBarrios = pd.read_csv(\"../data/barrios.csv\",sep=\",\",engine=\"python\")"
   ]
  },
  {
   "cell_type": "code",
   "execution_count": null,
   "outputs": [],
   "source": [
    "# ejercicio 1\n",
    "condicion = dfBarrios.comuna == 3\n",
    "df1= dfBarrios[[\"barrio\",\"perimetro\",\"area\"]]\n",
    "print(df1[condicion])"
   ],
   "metadata": {
    "collapsed": false,
    "pycharm": {
     "name": "#%%\n"
    }
   }
  },
  {
   "cell_type": "code",
   "execution_count": null,
   "outputs": [],
   "source": [
    "# ejercicio 2\n",
    "condicion = (dfBarrios.comuna > 4) & (dfBarrios.comuna < 10)\n",
    "df1= dfBarrios[[\"barrio\",\"perimetro\",\"area\"]]\n",
    "print(df1[condicion])"
   ],
   "metadata": {
    "collapsed": false,
    "pycharm": {
     "name": "#%%\n"
    }
   }
  },
  {
   "cell_type": "code",
   "execution_count": null,
   "outputs": [],
   "source": [
    "#ejercicio 3\n",
    "condicion= dfBarrios.index == 5\n",
    "df1=dfBarrios[\"comuna\"]\n",
    "comuna=dfBarrios.comuna[condicion]\n",
    "condicion= dfComunas.ID==int(comuna)\n",
    "df1= dfComunas[[\"PERIMETRO\",\"AREA\"]]\n",
    "print(df1[condicion])"
   ],
   "metadata": {
    "collapsed": false,
    "pycharm": {
     "name": "#%%\n"
    }
   }
  },
  {
   "cell_type": "code",
   "execution_count": null,
   "outputs": [],
   "source": [
    "#ejercicio 4\n",
    "condicion= (dfBarrios.barrio.str.startswith(\"v\")) | (dfBarrios.barrio.str.startswith(\"V\"))\n",
    "df1=dfBarrios[\"comuna\"]\n",
    "condicion = dfComunas.ID.isin(list(df1[condicion]))\n",
    "print(dfComunas.COMUNAS[condicion])"
   ],
   "metadata": {
    "collapsed": false,
    "pycharm": {
     "name": "#%%\n"
    }
   }
  },
  {
   "cell_type": "code",
   "execution_count": null,
   "outputs": [],
   "source": [
    "#ejercicio 5\n",
    "condicion= dfBarrios.barrio.str.contains(\"A\")\n",
    "df1=dfBarrios[\"comuna\"]\n",
    "condicion = dfComunas.ID.isin(list(df1[condicion]))\n",
    "print(dfComunas.AREA[condicion])"
   ],
   "metadata": {
    "collapsed": false,
    "pycharm": {
     "name": "#%%\n"
    }
   }
  },
  {
   "cell_type": "code",
   "execution_count": null,
   "outputs": [],
   "source": [
    "#ejercicio 6\n",
    "condicion= dfCasos.index == 15\n",
    "comuna=dfCasos.comuna[condicion]\n",
    "condicion= dfComunas.ID==int(comuna)\n",
    "print(dfComunas.PERIMETRO[condicion])"
   ],
   "metadata": {
    "collapsed": false,
    "pycharm": {
     "name": "#%%\n"
    }
   }
  },
  {
   "cell_type": "code",
   "execution_count": null,
   "outputs": [],
   "source": [
    "#ejercicio 7\n",
    "condicion= dfCasos.index == 7\n",
    "barrio=dfCasos.barrio[condicion]\n",
    "barrio = barrio.tolist()[0]\n",
    "condicion= dfBarrios.barrio == barrio\n",
    "df1= dfBarrios[[\"area\"]]\n",
    "print(df1[condicion])"
   ],
   "metadata": {
    "collapsed": false,
    "pycharm": {
     "name": "#%%\n"
    }
   }
  },
  {
   "cell_type": "code",
   "execution_count": 81,
   "outputs": [
    {
     "name": "stdout",
     "output_type": "stream",
     "text": [
      "              barrio  comuna\n",
      "0          CHACARITA      15\n",
      "4            ALMAGRO       5\n",
      "9             FLORES       7\n",
      "11      CONSTITUCION       1\n",
      "17         MATADEROS       9\n",
      "20          SAAVEDRA      12\n",
      "22     VILLA URQUIZA      12\n",
      "28     VILLA ORTUZAR      15\n",
      "29          BARRACAS       4\n",
      "31  PARQUE CHACABUCO       7\n",
      "33           PALERMO      14\n",
      "42       SAN NICOLAS       1\n",
      "43          BELGRANO      13\n",
      "44          RECOLETA       2\n",
      "45            RETIRO       1\n",
      "15\n"
     ]
    }
   ],
   "source": [
    "#ejercicio 8\n",
    "condicion=(dfCasos.numero_de_caso>6000000)&(dfCasos.numero_de_caso<7000000)\n",
    "casos=dfCasos.barrio[condicion]\n",
    "condicion = dfBarrios.barrio.isin(casos)\n",
    "df1= dfBarrios[[\"barrio\",\"comuna\"]]\n",
    "print(df1[condicion])\n",
    "print(len(df1[condicion]))"
   ],
   "metadata": {
    "collapsed": false,
    "pycharm": {
     "name": "#%%\n"
    }
   }
  },
  {
   "cell_type": "code",
   "execution_count": 68,
   "outputs": [
    {
     "name": "stdout",
     "output_type": "stream",
     "text": [
      "        genero  edad\n",
      "7    masculino    29\n",
      "150  masculino    30\n",
      "354  masculino    52\n",
      "459   femenino    25\n",
      "509   femenino    41\n"
     ]
    }
   ],
   "source": [
    "#ejercicio 9\n",
    "condicion=dfBarrios.index == 3\n",
    "barrio = dfBarrios.barrio[condicion].tolist()[0]\n",
    "condicion = dfCasos.barrio == barrio\n",
    "df1= dfCasos[[\"genero\",\"edad\"]]\n",
    "print(df1[condicion])"
   ],
   "metadata": {
    "collapsed": false,
    "pycharm": {
     "name": "#%%\n"
    }
   }
  },
  {
   "cell_type": "code",
   "execution_count": 70,
   "outputs": [
    {
     "name": "stdout",
     "output_type": "stream",
     "text": [
      "               barrio\n",
      "0           CHACARITA\n",
      "7        MONTE CASTRO\n",
      "9              FLORES\n",
      "11       CONSTITUCION\n",
      "13              BOEDO\n",
      "14    VELEZ SARSFIELD\n",
      "17          MATADEROS\n",
      "18       VILLA LUGANO\n",
      "19          SAN TELMO\n",
      "20           SAAVEDRA\n",
      "24          BALVANERA\n",
      "25  VILLA GRAL. MITRE\n",
      "29           BARRACAS\n",
      "30  PARQUE AVELLANEDA\n",
      "31   PARQUE CHACABUCO\n",
      "33            PALERMO\n",
      "35      VILLA SOLDATI\n",
      "41          MONSERRAT\n",
      "44           RECOLETA\n",
      "46              NUÑEZ\n"
     ]
    }
   ],
   "source": [
    "#ejercicio 10\n",
    "condicion=dfCasos.tipo_contagio == \"En Investigación\"\n",
    "casos=dfCasos.barrio[condicion]\n",
    "condicion = dfBarrios.barrio.isin(casos)\n",
    "df1= dfBarrios[[\"barrio\"]]\n",
    "print(df1[condicion])"
   ],
   "metadata": {
    "collapsed": false,
    "pycharm": {
     "name": "#%%\n"
    }
   }
  },
  {
   "cell_type": "code",
   "execution_count": null,
   "outputs": [],
   "source": [
    "#ejercicio 11\n",
    "condicion=dfCasos.edad <18\n",
    "casos=dfCasos.barrio[condicion]\n",
    "condicion = dfBarrios.barrio.isin(casos)\n",
    "df1= dfBarrios[[\"barrio\"]]\n",
    "print(df1[condicion])\n",
    "print(len(df1[condicion]))"
   ],
   "metadata": {
    "collapsed": false,
    "pycharm": {
     "name": "#%%\n"
    }
   }
  },
  {
   "cell_type": "code",
   "execution_count": null,
   "outputs": [],
   "source": [
    "#ejercicio 12\n",
    "condicion= dfBarrios.index <=4\n",
    "barrios = dfBarrios.barrio[condicion]\n",
    "condicion= dfCasos.barrio.isin(barrios)\n",
    "df1 = dfCasos[[\"numero_de_caso\",\"genero\",\"edad\"]]\n",
    "print(df1[condicion])"
   ],
   "metadata": {
    "collapsed": false,
    "pycharm": {
     "name": "#%%\n"
    }
   }
  },
  {
   "cell_type": "code",
   "execution_count": null,
   "outputs": [],
   "source": [
    "#ejercicio 13\n",
    "condicion= ~dfCasos.comuna.isin([13])\n",
    "df1 = dfCasos[[\"numero_de_caso\",\"genero\",\"edad\"]]\n",
    "print(df1[condicion])"
   ],
   "metadata": {
    "collapsed": false,
    "pycharm": {
     "name": "#%%\n"
    }
   }
  }
 ],
 "metadata": {
  "kernelspec": {
   "display_name": "Python 3",
   "language": "python",
   "name": "python3"
  },
  "language_info": {
   "codemirror_mode": {
    "name": "ipython",
    "version": 2
   },
   "file_extension": ".py",
   "mimetype": "text/x-python",
   "name": "python",
   "nbconvert_exporter": "python",
   "pygments_lexer": "ipython2",
   "version": "2.7.6"
  }
 },
 "nbformat": 4,
 "nbformat_minor": 0
}