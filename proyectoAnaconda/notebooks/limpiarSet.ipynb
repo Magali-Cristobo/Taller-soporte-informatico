{
 "cells": [
  {
   "cell_type": "code",
   "execution_count": 16,
   "metadata": {
    "pycharm": {
     "name": "#%%\n"
    }
   },
   "outputs": [
    {
     "name": "stdout",
     "output_type": "stream",
     "text": [
      "holaaa\n"
     ]
    }
   ],
   "source": [
    "import pandas as pd\n",
    "\n",
    "\n",
    "def pasarMinusculas(valor):\n",
    "    if type(valor) == str:\n",
    "        return valor.lower()\n",
    "    else:\n",
    "        return valor\n",
    "\n",
    "\n",
    "def sacarEspacios():  # buscar funcion data['columna'].str.strip()\n",
    "    pass\n",
    "\n",
    "\n",
    "# quitar filas null\n",
    "def soloNumero(valor):\n",
    "    valor = str(valor)\n",
    "    for caracter in valor:\n",
    "        if not caracter.isnumeric():\n",
    "            valor = valor.replace(caracter, '')\n",
    "            # valor = valor.split(caracter, 1)\n",
    "    return valor\n",
    "\n",
    "\n",
    "def generalizarSexos(valor):\n",
    "    valor = str(valor)\n",
    "    valor.lower()\n",
    "    if valor.startswith('m') or valor.startswith('h'):\n",
    "        valor = valor[0]\n",
    "    elif valor.startswith('no binarie'):\n",
    "        valor = 'nb'\n",
    "    else:\n",
    "        valor = None  # no se si esto es asi\n",
    "    return valor\n",
    "\n",
    "\n",
    "def pasarFloatPromedios(valor):\n",
    "    valor = float(valor)\n",
    "    return valor\n",
    "\n",
    "\n",
    "def arreglarLU(valor):\n",
    "    valor = str(valor)\n",
    "    primerCaracter = True\n",
    "    indiceCaracter=0\n",
    "    for caracter in valor:\n",
    "        indiceCaracter=indiceCaracter+1\n",
    "        # print(primerCaracter,\" \",caracter)\n",
    "        if not caracter.isnumeric() and caracter != \"/\" and primerCaracter:\n",
    "            valor = valor.replace(caracter, '/')\n",
    "            primerCaracter=False\n",
    "        if not caracter.isnumeric() and not primerCaracter:\n",
    "            valor=valor.replace(caracter,\"\",1)\n",
    "    return valor\n",
    "\n",
    "data = pd.read_csv(\"../data/data.csv\", sep=',', skipinitialspace=True, engine='python')\n",
    "# pasamos a miniscula\n",
    "data = data.applymap(pasarMinusculas)\n",
    "# ponemos el promedio como float\n",
    "data[\"Promedio\"] = data[\"Promedio\"].apply(float)\n",
    "# sacamos caracteres que no sean numeros\n",
    "data[\"Peso\"] = data[\"Peso\"].apply(soloNumero)\n",
    "data[\"Altura\"] = data[\"Altura\"].apply(soloNumero)\n",
    "# arreglamos el lu\n",
    "data[\"LU\"] = data[\"LU\"].apply(arreglarLU)\n",
    "data[\"Sexo\"] = data[\"Sexo\"].apply(generalizarSexos)\n",
    "data = data.dropna()\n",
    "data.to_csv('../data/nuevo1.csv')\n"
   ]
  }
 ],
 "metadata": {
  "kernelspec": {
   "display_name": "Python 3",
   "language": "python",
   "name": "python3"
  },
  "language_info": {
   "codemirror_mode": {
    "name": "ipython",
    "version": 3
   },
   "file_extension": ".py",
   "mimetype": "text/x-python",
   "name": "python",
   "nbconvert_exporter": "python",
   "pygments_lexer": "ipython3",
   "version": "3.9.4"
  }
 },
 "nbformat": 4,
 "nbformat_minor": 1
}