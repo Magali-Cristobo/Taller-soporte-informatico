{
 "cells": [
  {
   "cell_type": "code",
   "execution_count": 8,
   "metadata": {
    "pycharm": {
     "name": "#%%\n"
    }
   },
   "outputs": [
    {
     "name": "stdout",
     "output_type": "stream",
     "text": [
      "      latitud   longitud  id                                 nombre estacion\n",
      "0  -58.398928 -34.635750   1                                CASEROS        H\n",
      "1  -58.400970 -34.629376   2             INCLAN - MEZQUITA AL AHMAD        H\n",
      "2  -58.402323 -34.623092   3                            HUMBERTO 1°        H\n",
      "3  -58.404732 -34.615242   4                              VENEZUELA        H\n",
      "4  -58.406036 -34.608935   5                 ONCE - 30 DE DICIEMBRE        H\n",
      "..        ...        ...  ..                                    ...      ...\n",
      "85 -58.402376 -34.594525  86             SANTA FE - CARLOS JAUREGUI        H\n",
      "86 -58.391019 -34.583036  87  FACULTAD DE DERECHO - JULIETA LANTERI        H\n",
      "87 -58.375850 -34.592114  90                                 RETIRO        E\n",
      "88 -58.371700 -34.596597  89                              CATALINAS        E\n",
      "89 -58.370413 -34.603014  88                         CORREO CENTRAL        E\n",
      "\n",
      "[90 rows x 5 columns]\n",
      "      latitud   longitud  id                                 nombre estacion\n",
      "0  -58.398928 -34.635750   1                                CASEROS        H\n",
      "1  -58.400970 -34.629376   2             INCLAN - MEZQUITA AL AHMAD        H\n",
      "2  -58.402323 -34.623092   3                            HUMBERTO 1°        H\n",
      "3  -58.404732 -34.615242   4                              VENEZUELA        H\n",
      "4  -58.406036 -34.608935   5                 ONCE - 30 DE DICIEMBRE        H\n",
      "..        ...        ...  ..                                    ...      ...\n",
      "85 -58.402376 -34.594525  86             SANTA FE - CARLOS JAUREGUI        H\n",
      "86 -58.391019 -34.583036  87  FACULTAD DE DERECHO - JULIETA LANTERI        H\n",
      "87 -58.375850 -34.592114  90                                 RETIRO        E\n",
      "88 -58.371700 -34.596597  89                              CATALINAS        E\n",
      "89 -58.370413 -34.603014  88                         CORREO CENTRAL        E\n",
      "\n",
      "[90 rows x 5 columns]\n"
     ]
    }
   ],
   "source": [
    "# jupyter notebook --NotebookApp.iopub_data_rate_limit=1.0e10\n",
    "\n",
    "import pandas as pd\n",
    "df = pd.read_csv(\"../data/estaciones-de-subte.csv\")\n",
    "dfConIndiceNombre = df.set_index('latitud')\n",
    "dfSinFilasDuplicadas = df.drop_duplicates()\n",
    "dfSinFilasConNaN = dfSinFilasDuplicadas.dropna()\n",
    "dfSinFilasConNaN.to_csv(\"../data/nuevo.csv\")\n",
    "print(dfSinFilasConNaN.loc[0:3000])\n",
    "print(dfSinFilasConNaN.loc[len(dfSinFilasConNaN.index)-2000:len(dfSinFilasConNaN.index)-1])\n",
    "\n",
    "\n"
   ]
  }
 ],
 "metadata": {
  "kernelspec": {
   "display_name": "Python 3",
   "language": "python",
   "name": "python3"
  },
  "language_info": {
   "codemirror_mode": {
    "name": "ipython",
    "version": 3
   },
   "file_extension": ".py",
   "mimetype": "text/x-python",
   "name": "python",
   "nbconvert_exporter": "python",
   "pygments_lexer": "ipython3",
   "version": "3.8.5"
  }
 },
 "nbformat": 4,
 "nbformat_minor": 1
}