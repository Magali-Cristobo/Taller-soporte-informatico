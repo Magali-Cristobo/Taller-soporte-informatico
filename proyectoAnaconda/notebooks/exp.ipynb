{
 "cells": [
  {
   "cell_type": "code",
   "execution_count": 1,
   "metadata": {
    "pycharm": {
     "name": "#%%\n"
    }
   },
   "outputs": [
    {
     "name": "stdout",
     "output_type": "stream",
     "text": [
      "      latitud   longitud                      nombre estacion\n",
      "id                                                           \n",
      "1  -58.398928 -34.635750                     CASEROS        H\n",
      "2  -58.400970 -34.629376  INCLAN - MEZQUITA AL AHMAD        H\n",
      "3  -58.402323 -34.623092                 HUMBERTO 1°        H\n",
      "4  -58.404732 -34.615242                   VENEZUELA        H\n",
      "5  -58.406036 -34.608935      ONCE - 30 DE DICIEMBRE        H\n",
      "6  -58.380574 -34.604245                  9 DE JULIO        D\n",
      "7  -58.397924 -34.599757        FACULTAD DE MEDICINA        D\n",
      "8  -58.385142 -34.601587   TRIBUNALES - TEATRO COLÓN        D\n",
      "9  -58.407161 -34.591628                      AGÜERO        D\n",
      "10 -58.415955 -34.585156          R.SCALABRINI ORTIZ        D\n",
      "11 -58.421196 -34.581411                PLAZA ITALIA        D\n",
      "12 -58.425711 -34.578422                     PALERMO        D\n",
      "13 -58.374018 -34.591194                      RETIRO        C\n",
      "14 -58.378156 -34.601770                     LAVALLE        C\n",
      "15 -58.379530 -34.604844              DIAGONAL NORTE        C\n",
      "      latitud   longitud                                 nombre estacion\n",
      "id                                                                      \n",
      "70 -58.370968 -34.608810                          PLAZA DE MAYO        A\n",
      "71 -58.462378 -34.555642                    CONGRESO DE TUCUMAN        D\n",
      "72 -58.369930 -34.602989                        LEANDRO N. ALEM        B\n",
      "73 -58.466227 -34.584095               TRONADOR - VILLA ORTÚZAR        B\n",
      "74 -58.474241 -34.581249               DE LOS INCAS -PQUE. CHAS        B\n",
      "75 -58.456710 -34.626667                               CARABOBO        A\n",
      "76 -58.448648 -34.623529                                   PUAN        A\n",
      "77 -58.405450 -34.604490                             CORRIENTES        H\n",
      "78 -58.405795 -34.638406                       PARQUE PATRICIOS        H\n",
      "79 -58.412385 -34.641269                             HOSPITALES        H\n",
      "80 -58.481014 -34.577797                             ECHEVERRÍA        B\n",
      "81 -58.486385 -34.574319   JUAN MANUEL DE ROSAS - VILLA URQUIZA        B\n",
      "83 -58.469640 -34.630707                            SAN PEDRITO        A\n",
      "82 -58.463541 -34.629087                     SAN JOSÉ DE FLORES        A\n",
      "84 -58.403722 -34.598455                                CÓRDOBA        H\n",
      "85 -58.397216 -34.587462                              LAS HERAS        H\n",
      "86 -58.402376 -34.594525             SANTA FE - CARLOS JAUREGUI        H\n",
      "87 -58.391019 -34.583036  FACULTAD DE DERECHO - JULIETA LANTERI        H\n",
      "90 -58.375850 -34.592114                                 RETIRO        E\n",
      "89 -58.371700 -34.596597                              CATALINAS        E\n",
      "    id    latitud   longitud                                 nombre estacion\n",
      "0    1 -58.398928 -34.635750                                CASEROS        H\n",
      "1    2 -58.400970 -34.629376             INCLAN - MEZQUITA AL AHMAD        H\n",
      "2    3 -58.402323 -34.623092                            HUMBERTO 1°        H\n",
      "3    4 -58.404732 -34.615242                              VENEZUELA        H\n",
      "4    5 -58.406036 -34.608935                 ONCE - 30 DE DICIEMBRE        H\n",
      "..  ..        ...        ...                                    ...      ...\n",
      "85  86 -58.402376 -34.594525             SANTA FE - CARLOS JAUREGUI        H\n",
      "86  87 -58.391019 -34.583036  FACULTAD DE DERECHO - JULIETA LANTERI        H\n",
      "87  90 -58.375850 -34.592114                                 RETIRO        E\n",
      "88  89 -58.371700 -34.596597                              CATALINAS        E\n",
      "89  88 -58.370413 -34.603014                         CORREO CENTRAL        E\n",
      "\n",
      "[90 rows x 5 columns]\n",
      "    id    latitud   longitud                      nombre estacion\n",
      "1    2 -58.400970 -34.629376  INCLAN - MEZQUITA AL AHMAD        H\n",
      "5    6 -58.380574 -34.604245                  9 DE JULIO        D\n",
      "12  13 -58.374018 -34.591194                      RETIRO        C\n",
      "36  37 -58.401208 -34.609834                     ALBERTI        A\n",
      "['id', 'latitud', 'longitud', 'nombre', 'estacion']\n",
      "0                                   CASEROS\n",
      "1                INCLAN - MEZQUITA AL AHMAD\n",
      "2                               HUMBERTO 1°\n",
      "3                                 VENEZUELA\n",
      "4                    ONCE - 30 DE DICIEMBRE\n",
      "                      ...                  \n",
      "85               SANTA FE - CARLOS JAUREGUI\n",
      "86    FACULTAD DE DERECHO - JULIETA LANTERI\n",
      "87                                   RETIRO\n",
      "88                                CATALINAS\n",
      "89                           CORREO CENTRAL\n",
      "Name: nombre, Length: 90, dtype: object\n"
     ]
    }
   ],
   "source": [
    "# jupyter notebook --NotebookApp.iopub_data_rate_limit=1.0e10\n",
    "\n",
    "import pandas as pd\n",
    "df = pd.read_csv(\"../data/estaciones-de-subte.csv\")\n",
    "dfConIndiceNombre = df.set_index('id')\n",
    "dfSinFilasDuplicadas = dfConIndiceNombre.drop_duplicates()\n",
    "dfSinFilasConNaN = dfSinFilasDuplicadas.dropna()\n",
    "dfSinFilasConNaN.to_csv(\"../data/nuevo.csv\")\n",
    "print(dfSinFilasConNaN.loc[1:15]) # muestro las primeras 15 porque no tengo 3000 filas\n",
    "print(dfSinFilasConNaN.loc[len(dfSinFilasConNaN.index)-20:len(dfSinFilasConNaN.index)-1])\n",
    "\n",
    "nuevoDf=pd.read_csv(\"../data/nuevo.csv\")\n",
    "print(nuevoDf)\n",
    "print(nuevoDf.loc[[1,5,12,36]])\n",
    "print(list(nuevoDf.columns))\n",
    "print(nuevoDf[\"nombre\"])\n",
    "\n",
    "#preguntas:\n",
    "#esta bien que me cree ese csv con esa primer columna de numeros?"
   ]
  }
 ],
 "metadata": {
  "kernelspec": {
   "display_name": "Python 3",
   "language": "python",
   "name": "python3"
  },
  "language_info": {
   "codemirror_mode": {
    "name": "ipython",
    "version": 3
   },
   "file_extension": ".py",
   "mimetype": "text/x-python",
   "name": "python",
   "nbconvert_exporter": "python",
   "pygments_lexer": "ipython3",
   "version": "3.8.5"
  }
 },
 "nbformat": 4,
 "nbformat_minor": 1
}